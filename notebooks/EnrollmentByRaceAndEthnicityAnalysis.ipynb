{
 "cells": [
  {
   "metadata": {},
   "cell_type": "markdown",
   "source": "# This first block imports the libraries that we will use to analyze the data.",
   "id": "3a6d9d47927c5b14"
  },
  {
   "metadata": {},
   "cell_type": "code",
   "outputs": [],
   "execution_count": null,
   "source": [
    "# Cell 1: Import libraries and read data\n",
    "import pandas as pd\n",
    "import matplotlib.pyplot as plt\n",
    "\n",
    "# Read the CSV file\n",
    "df = pd.read_csv('DiversityInStem/data/processed/CleanedEnrollmentData2022.csv')\n",
    "\n",
    "# Display the first few rows of the dataframe\n",
    "print(df.head())"
   ],
   "id": "94ec836b09d837e2"
  },
  {
   "metadata": {},
   "cell_type": "code",
   "outputs": [],
   "execution_count": null,
   "source": [
    "# Cell 2: Data Preparation\n",
    "# Group the data by University and IPEDS_Race, summing the Enrollment\n",
    "grouped_data = df.groupby(['University', 'IPEDS_Race'])['Enrollment'].sum().unstack()\n",
    "\n",
    "# Calculate the percentage for each race within each university\n",
    "percentage_data = grouped_data.div(grouped_data.sum(axis=1), axis=0) * 100\n",
    "\n",
    "# Display the percentage data\n",
    "print(percentage_data)"
   ],
   "id": "8a0f13e664d9d074"
  },
  {
   "metadata": {},
   "cell_type": "code",
   "outputs": [],
   "execution_count": null,
   "source": [
    "\n",
    "# Cell 3: Visualization 1 - Bar Chart Comparison\n",
    "plt.figure(figsize=(12, 6))\n",
    "percentage_data.plot(kind='bar', stacked=True)\n",
    "plt.title('Racial Composition of Universities (2022)')\n",
    "plt.xlabel('University')\n",
    "plt.ylabel('Percentage')\n",
    "plt.legend(title='Race/Ethnicity', bbox_to_anchor=(1.05, 1), loc='upper left')\n",
    "plt.tight_layout()\n",
    "plt.show()"
   ],
   "id": "6dfe7fa2c21f2094"
  },
  {
   "metadata": {},
   "cell_type": "code",
   "outputs": [],
   "execution_count": null,
   "source": [
    "# Cell 4: Visualization 2 - Pie Charts\n",
    "fig, (ax1, ax2) = plt.subplots(1, 2, figsize=(15, 7))\n",
    "\n",
    "# Pie chart for Baccalaureate Colleges\n",
    "percentage_data.loc['Baccalaureate Colleges'].plot(kind='pie', ax=ax1, autopct='%1.1f%%')\n",
    "ax1.set_title('Racial Composition of Baccalaureate Colleges (2022)')\n",
    "ax1.set_ylabel('')\n",
    "\n",
    "# Pie chart for Berea College\n",
    "percentage_data.loc['Berea College'].plot(kind='pie', ax=ax2, autopct='%1.1f%%')\n",
    "ax2.set_title('Racial Composition of Berea College (2022)')\n",
    "ax2.set_ylabel('')\n",
    "\n",
    "plt.tight_layout()\n",
    "plt.show()"
   ],
   "id": "8236382f939a7947"
  },
  {
   "metadata": {},
   "cell_type": "markdown",
   "source": "## Horizontal Bar Chart",
   "id": "97d3040bb796d133"
  },
  {
   "metadata": {},
   "cell_type": "code",
   "outputs": [],
   "execution_count": null,
   "source": [
    "# Cell 5: Visualization 3 - Horizontal Bar Chart for Comparison\n",
    "plt.figure(figsize=(10, 8))\n",
    "percentage_data.plot(kind='barh', stacked=True)\n",
    "plt.title('Racial Composition Comparison (2022)')\n",
    "plt.xlabel('Percentage')\n",
    "plt.ylabel('University')\n",
    "plt.legend(title='Race/Ethnicity', bbox_to_anchor=(1.05, 1), loc='upper left')\n",
    "plt.tight_layout()\n",
    "plt.show()"
   ],
   "id": "fd21162f64ff7855"
  }
 ],
 "metadata": {
  "kernelspec": {
   "display_name": "Python 3",
   "language": "python",
   "name": "python3"
  },
  "language_info": {
   "codemirror_mode": {
    "name": "ipython",
    "version": 2
   },
   "file_extension": ".py",
   "mimetype": "text/x-python",
   "name": "python",
   "nbconvert_exporter": "python",
   "pygments_lexer": "ipython2",
   "version": "2.7.6"
  }
 },
 "nbformat": 4,
 "nbformat_minor": 5
}
